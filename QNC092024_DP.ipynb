{
 "cells": [
  {
   "cell_type": "code",
   "execution_count": 20,
   "id": "b6bca709",
   "metadata": {},
   "outputs": [
    {
     "name": "stdout",
     "output_type": "stream",
     "text": [
      "Significant results without correction: 481 out of 10000\n"
     ]
    }
   ],
   "source": [
    "#load everything\n",
    "import numpy as np\n",
    "import scipy.stats as st\n",
    "import matplotlib.pyplot as plt\n",
    "from IPython.display import display, clear_output\n",
    "\n",
    "# for simulations \n",
    "num_experiments = 10000 # simulation \n",
    "max_n = 100             # maximum sample size to simulate\n",
    "mean = 0                # mean of groups\n",
    "std = 1                 # SD of both groups\n",
    "alpha = 0.05            # sig val\n",
    "\n",
    "# Placeholder to store p-values for different sample sizes\n",
    "p_values = []\n",
    "\n",
    "# Simulate multiple experiments\n",
    "for _ in range(num_experiments):\n",
    "    \n",
    "    # Generate two random samples from normal distribution with equal means and SD\n",
    "    sample1 = np.random.normal(mean, std, n)\n",
    "    sample2 = np.random.normal(mean, std, n)\n",
    "    \n",
    "    # Perform independent t-test\n",
    "    t_stat, p_value = st.ttest_ind(sample1, sample2)\n",
    "        \n",
    "    # Append p-value from t-test to the list\n",
    "    p_values.append(p_value)\n",
    "    \n",
    "# Convert to numpy array for easier manipulation\n",
    "p_values = np.array(p_values)\n",
    "    \n",
    "# Count how many p-values are less than alpha (0.05) - without any correction\n",
    "significant_without_correction = np.sum(p_values < alpha)\n",
    "print(f\"Significant results without correction: {significant_without_correction} out of {num_experiments}\")\n",
    "\n"
   ]
  },
  {
   "cell_type": "code",
   "execution_count": 21,
   "id": "5735e9ee",
   "metadata": {},
   "outputs": [
    {
     "name": "stdout",
     "output_type": "stream",
     "text": [
      "Significant results after Bonferroni correction: 0 out of 10000\n",
      "Significant results after Benjamini-Hochberg correction: 0 out of 10000\n"
     ]
    }
   ],
   "source": [
    "# Bonferroni correction\n",
    "alpha_bonferroni = alpha / num_experiments\n",
    "\n",
    "# Check how many p-values are significant after Bonferroni correction\n",
    "significant_bonferroni = np.sum(p_values < alpha_bonferroni)\n",
    "print(f\"Significant results after Bonferroni correction: {significant_bonferroni} out of {num_experiments}\")\n",
    "\n",
    "# Benjamini-Hochberg procedure\n",
    "sorted_p_values = np.sort(p_values)\n",
    "bh_threshold = (np.arange(1, num_experiments+1) / num_experiments) * alpha\n",
    "\n",
    "# Find how many p-values are below the Benjamini-Hochberg threshold\n",
    "significant_bh = np.sum(sorted_p_values < bh_threshold)\n",
    "print(f\"Significant results after Benjamini-Hochberg correction: {significant_bh} out of {num_experiments}\")\n"
   ]
  },
  {
   "cell_type": "code",
   "execution_count": 22,
   "id": "90b1dee9",
   "metadata": {},
   "outputs": [
    {
     "name": "stdout",
     "output_type": "stream",
     "text": [
      "Significant results without correction: 10000 out of 10000\n",
      "Significant results after Bonferroni correction: 9899 out of 10000\n",
      "Significant results after Benjamini-Hochberg correction: 10000 out of 10000\n"
     ]
    }
   ],
   "source": [
    "# for simulations - means 1 and 2 \n",
    "num_experiments = 10000  # simulation (10000 experiments)\n",
    "max_n = 100              # maximum sample size to simulate\n",
    "mean1 = 1                # mean of group 1\n",
    "mean2 = 2                # mean of group 2\n",
    "std = 1                  # SD of both groups\n",
    "alpha = 0.05             # significance level\n",
    "\n",
    "# Placeholder to store p-values for each experiment\n",
    "p_values = []\n",
    "\n",
    "# Simulate multiple experiments\n",
    "for _ in range(num_experiments):\n",
    "    # Generate two random samples from normal distributions with different means and equal SD\n",
    "    sample1 = np.random.normal(mean1, std, max_n)\n",
    "    sample2 = np.random.normal(mean2, std, max_n)\n",
    "    \n",
    "    # Perform independent t-test\n",
    "    t_stat, p_value = st.ttest_ind(sample1, sample2)\n",
    "    \n",
    "    # Append p-value from t-test to the list\n",
    "    p_values.append(p_value)\n",
    "    \n",
    "# Convert to numpy array for easier manipulation\n",
    "p_values = np.array(p_values)\n",
    "\n",
    "# Count how many p-values are less than alpha (0.05) - without any correction\n",
    "significant_without_correction = np.sum(p_values < alpha)\n",
    "print(f\"Significant results without correction: {significant_without_correction} out of {num_experiments}\")\n",
    "    \n",
    "# Bonferroni correction\n",
    "alpha_bonferroni = alpha / num_experiments\n",
    "\n",
    "# Check how many p-values are significant after Bonferroni correction\n",
    "significant_bonferroni = np.sum(p_values < alpha_bonferroni)\n",
    "print(f\"Significant results after Bonferroni correction: {significant_bonferroni} out of {num_experiments}\")\n",
    "\n",
    "# Benjamini-Hochberg procedure\n",
    "sorted_p_values = np.sort(p_values)\n",
    "bh_threshold = (np.arange(1, num_experiments+1) / num_experiments) * alpha\n",
    "\n",
    "# Find how many p-values are below the Benjamini-Hochberg threshold\n",
    "significant_bh = np.sum(sorted_p_values < bh_threshold)\n",
    "print(f\"Significant results after Benjamini-Hochberg correction: {significant_bh} out of {num_experiments}\")"
   ]
  },
  {
   "cell_type": "code",
   "execution_count": null,
   "id": "5b67cb72",
   "metadata": {},
   "outputs": [],
   "source": []
  }
 ],
 "metadata": {
  "kernelspec": {
   "display_name": "Python 3 (ipykernel)",
   "language": "python",
   "name": "python3"
  },
  "language_info": {
   "codemirror_mode": {
    "name": "ipython",
    "version": 3
   },
   "file_extension": ".py",
   "mimetype": "text/x-python",
   "name": "python",
   "nbconvert_exporter": "python",
   "pygments_lexer": "ipython3",
   "version": "3.11.5"
  }
 },
 "nbformat": 4,
 "nbformat_minor": 5
}
