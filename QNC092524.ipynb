{
 "cells": [
  {
   "cell_type": "code",
   "execution_count": 32,
   "id": "32d3ae6d",
   "metadata": {},
   "outputs": [
    {
     "data": {
      "image/png": "[encoded data removed]",
      "text/plain": [
       "<Figure size 800x600 with 1 Axes>"
      ]
     },
     "metadata": {},
     "output_type": "display_data"
    }
   ],
   "source": [
    "#load\n",
    "import numpy as np\n",
    "import matplotlib.pyplot as plt\n",
    "from scipy import stats\n",
    "from statsmodels.stats.power import NormalIndPower\n",
    "\n",
    "\n",
    "# Define the data for Wing length (X) and Tail length (Y)\n",
    "wing_length = [10.4, 10.8, 11.1, 10.2, 10.3, 10.2, 10.7, 10.5, 10.8, 11.2, 10.6, 11.4]\n",
    "tail_length = [7.4, 7.6, 7.9, 7.2, 7.4, 7.1, 7.4, 7.2, 7.8, 7.7, 7.8, 8.3]\n",
    "\n",
    "# Plot wing vs tail length\n",
    "plt.figure(figsize=(8, 6))\n",
    "plt.scatter(wing_length, tail_length, color='black', label=\"Wing vs Tail length\")\n",
    "plt.title('Wing Length vs Tail Length', fontsize=16)\n",
    "plt.xlabel('Wing Length', fontsize=12)\n",
    "plt.ylabel('Tail Length', fontsize=12)\n",
    "plt.legend()\n",
    "plt.grid(True)\n",
    "plt.show()"
   ]
  },
  {
   "cell_type": "code",
   "execution_count": 23,
   "id": "1452e131",
   "metadata": {},
   "outputs": [
    {
     "data": {
      "text/plain": [
       "(0.8703545613058226, 0.8703545613058226)"
      ]
     },
     "execution_count": 23,
     "metadata": {},
     "output_type": "execute_result"
    }
   ],
   "source": [
    "#calculate rx,y and ry,x manually\n",
    "\n",
    "#calc means\n",
    "mean_x = np.mean(wing_length)\n",
    "mean_y = np.mean(tail_length)\n",
    "\n",
    "# Calculation of r(X,Y)\n",
    "numerator_xy = np.sum((wing_length - mean_x) * (tail_length - mean_y))\n",
    "denominator_xy = np.sqrt(np.sum((wing_length - mean_x)**2) * np.sum((tail_length - mean_y)**2))\n",
    "r_xy_manual = numerator_xy / denominator_xy\n",
    "\n",
    "\n",
    "# Calculation of r(Y,X) (should be the same)\n",
    "numerator_yx = np.sum((tail_length - mean_y) * (wing_length - mean_x))\n",
    "denominator_yx = np.sqrt(np.sum((tail_length - mean_y)**2) * np.sum((wing_length - mean_x)**2))\n",
    "r_yx_manual = numerator_yx / denominator_yx\n",
    "\n",
    "r_xy_manual, r_yx_manual\n"
   ]
  },
  {
   "cell_type": "code",
   "execution_count": 19,
   "id": "fb7a42f3",
   "metadata": {},
   "outputs": [
    {
     "data": {
      "text/plain": [
       "(0.8703545613058227, 0.8703545613058227)"
      ]
     },
     "execution_count": 19,
     "metadata": {},
     "output_type": "execute_result"
    }
   ],
   "source": [
    "# Using numpy's corrcoef function\n",
    "r_xy_numpy = np.corrcoef(wing_length, tail_length)[0, 1]\n",
    "r_yx_numpy = np.corrcoef(tail_length, wing_length)[0, 1]\n",
    "\n",
    "r_xy_numpy, r_yx_numpy"
   ]
  },
  {
   "cell_type": "code",
   "execution_count": 21,
   "id": "0c7fdd15",
   "metadata": {},
   "outputs": [
    {
     "data": {
      "text/plain": [
       "(0.8703545613058227,\n",
       " 0.15571863652567375,\n",
       " (0.5651460337155021, 1.1755630888961432))"
      ]
     },
     "execution_count": 21,
     "metadata": {},
     "output_type": "execute_result"
    }
   ],
   "source": [
    "#SE of rx,y; 95% CI computed from SE?\n",
    "\n",
    "# Calculate Pearson correlation coefficient\n",
    "r_xy = np.corrcoef(wing_length, tail_length)[0, 1]\n",
    "\n",
    "# count n\n",
    "n = len(wing_length)\n",
    "\n",
    "#SE of rx,y\n",
    "SE = np.sqrt((1 - r_xy**2) / (n - 2))\n",
    "\n",
    "#95% CI\n",
    "Z = 1.96  # for 95% confidence\n",
    "lower_ci = r_xy - Z * SE\n",
    "upper_ci = r_xy + Z * SE\n",
    "\n",
    "r_xy, SE, (lower_ci, upper_ci)"
   ]
  },
  {
   "cell_type": "code",
   "execution_count": 27,
   "id": "f9af5527",
   "metadata": {},
   "outputs": [
    {
     "data": {
      "text/plain": [
       "(5.589276792584329, 2.2281388519649385, 0.00023110594312059085)"
      ]
     },
     "execution_count": 27,
     "metadata": {},
     "output_type": "execute_result"
    }
   ],
   "source": [
    "#rx,y significant? - calc ttest ; run two-tailed test\n",
    "\n",
    "#wing and tail length\n",
    "wing_length = np.array([10.4, 10.8, 11.1, 10.2, 10.3, 10.2, 10.7, 10.5, 10.8, 11.2, 10.6, 11.4])\n",
    "tail_length = np.array([7.4, 7.6, 7.9, 7.2, 7.4, 7.1, 7.4, 7.2, 7.8, 7.7, 7.8, 8.3])\n",
    "\n",
    "#Pearson correlation coefficient\n",
    "r_xy = np.corrcoef(wing_length, tail_length)[0, 1]\n",
    "\n",
    "#n\n",
    "n = len(wing_length)\n",
    "\n",
    "#t-statistic\n",
    "t_stat = (r_xy * np.sqrt(n - 2)) / np.sqrt(1 - r_xy**2)\n",
    "\n",
    "#df\n",
    "df = n - 2\n",
    "\n",
    "#crit t-value for a two-tailed test at p < 0.05\n",
    "critical_t = stats.t.ppf(1 - 0.025, df)  # Two-tailed, so use 0.025\n",
    "\n",
    "#calculate p-value\n",
    "p_value = 2 * (1 - stats.t.cdf(abs(t_stat), df))  # Two-tailed test\n",
    "\n",
    "#results\n",
    "t_stat, critical_t, p_value\n",
    "\n",
    "#correlation between wing and tail length is stat signficant (p <0.05 and |tstat| > |tcrit|)\n"
   ]
  },
  {
   "cell_type": "code",
   "execution_count": 31,
   "id": "c51be19e",
   "metadata": {},
   "outputs": [
    {
     "name": "stdout",
     "output_type": "stream",
     "text": [
      "Calculated Pearson correlation coefficient (r): 0.8704\n",
      "Calculated t-statistic: 0.5754\n",
      "Degrees of freedom: 10\n",
      "P-value: 0.5777\n",
      "Critical value: 2.2281\n",
      "Fail to reject the null hypothesis (H0).\n"
     ]
    }
   ],
   "source": [
    "#Evaluate H0: r = 0,75\n",
    "\n",
    "#wing and tail length\n",
    "wing_length = np.array([10.4, 10.8, 11.1, 10.2, 10.3, 10.2, 10.7, 10.5, 10.8, 11.2, 10.6, 11.4])\n",
    "tail_length = np.array([7.4, 7.6, 7.9, 7.2, 7.4, 7.1, 7.4, 7.2, 7.8, 7.7, 7.8, 8.3])\n",
    "\n",
    "#Pearson correlation coefficient\n",
    "r_xy = np.corrcoef(wing_length, tail_length)[0, 1]\n",
    "\n",
    "#n\n",
    "n = len(wing_length)\n",
    "\n",
    "#H0 value\n",
    "r_null = 0.75\n",
    "\n",
    "#test statistic for H0: r = 0.75\n",
    "t = (r_xy - r_null) * np.sqrt(n - 2) / np.sqrt(1 - r_null**2)\n",
    "\n",
    "#df\n",
    "df = n - 2\n",
    "\n",
    "#p-value (two-tailed)\n",
    "p_value = 2 * (1 - stats.t.cdf(np.abs(t), df))\n",
    "\n",
    "#critical value for two-tailed test at alpha = 0.05\n",
    "alpha = 0.05\n",
    "critical_value = stats.t.ppf(1 - alpha/2, df)\n",
    "\n",
    "#output results\n",
    "print(f\"Calculated Pearson correlation coefficient (r): {r_xy:.4f}\")\n",
    "print(f\"Calculated t-statistic: {t:.4f}\")\n",
    "print(f\"Degrees of freedom: {df}\")\n",
    "print(f\"P-value: {p_value:.4f}\")\n",
    "print(f\"Critical value: {critical_value:.4f}\")\n",
    "\n",
    "# Decision based on p-value\n",
    "if p_value < alpha:\n",
    "    print(\"Reject the null hypothesis (H0).\")\n",
    "else:\n",
    "    print(\"Fail to reject the null hypothesis (H0).\")\n",
    "    \n",
    "#fail to reject - correlation coefficient is not statistically sig from 0.75 for wing and tail length"
   ]
  },
  {
   "cell_type": "code",
   "execution_count": 34,
   "id": "2d33dd7d",
   "metadata": {},
   "outputs": [
    {
     "name": "stdout",
     "output_type": "stream",
     "text": [
      "Required sample size to achieve power of 0.8 when r >= 0.5: 53\n"
     ]
    },
    {
     "ename": "TypeError",
     "evalue": "NormalIndPower.solve_power() got an unexpected keyword argument 'nobs'",
     "output_type": "error",
     "traceback": [
      "\u001b[0;31m---------------------------------------------------------------------------\u001b[0m",
      "\u001b[0;31mTypeError\u001b[0m                                 Traceback (most recent call last)",
      "Cell \u001b[0;32mIn[34], line 23\u001b[0m\n\u001b[1;32m     21\u001b[0m \u001b[38;5;66;03m# Calculate power for the calculated sample size\u001b[39;00m\n\u001b[1;32m     22\u001b[0m n \u001b[38;5;241m=\u001b[39m \u001b[38;5;28mint\u001b[39m(np\u001b[38;5;241m.\u001b[39mceil(required_sample_size))  \u001b[38;5;66;03m# use the calculated sample size\u001b[39;00m\n\u001b[0;32m---> 23\u001b[0m calculated_power \u001b[38;5;241m=\u001b[39m power_analysis\u001b[38;5;241m.\u001b[39msolve_power(effect_size\u001b[38;5;241m=\u001b[39meffect_size, nobs\u001b[38;5;241m=\u001b[39mn, alpha\u001b[38;5;241m=\u001b[39malpha)\n\u001b[1;32m     25\u001b[0m \u001b[38;5;28mprint\u001b[39m(\u001b[38;5;124mf\u001b[39m\u001b[38;5;124m\"\u001b[39m\u001b[38;5;124mCalculated power for sample size \u001b[39m\u001b[38;5;132;01m{\u001b[39;00mn\u001b[38;5;132;01m}\u001b[39;00m\u001b[38;5;124m when r >= \u001b[39m\u001b[38;5;132;01m{\u001b[39;00mr1\u001b[38;5;132;01m}\u001b[39;00m\u001b[38;5;124m: \u001b[39m\u001b[38;5;132;01m{\u001b[39;00mcalculated_power\u001b[38;5;132;01m:\u001b[39;00m\u001b[38;5;124m.4f\u001b[39m\u001b[38;5;132;01m}\u001b[39;00m\u001b[38;5;124m\"\u001b[39m)\n",
      "\u001b[0;31mTypeError\u001b[0m: NormalIndPower.solve_power() got an unexpected keyword argument 'nobs'"
     ]
    }
   ],
   "source": [
    "#calc stats power and sample size needed -> did this in chatgpt idk hehe\n",
    "\n",
    "#parameters\n",
    "alpha = 0.05  # significance level\n",
    "desired_power = 0.80  # desired power\n",
    "r0 = 0  # null hypothesis correlation\n",
    "r1 = 0.5  # true correlation (minimum of interest)\n",
    "\n",
    "#cohen's q\n",
    "effect_size = np.arctanh(r1) - np.arctanh(r0)\n",
    "\n",
    "#power analysis\n",
    "power_analysis = NormalIndPower()\n",
    "\n",
    "\n",
    "# Calculate required sample size\n",
    "required_sample_size = power_analysis.solve_power(effect_size=effect_size, alpha=alpha, power=desired_power)\n",
    "\n",
    "print(f\"Required sample size to achieve power of {desired_power} when r >= {r1}: {int(np.ceil(required_sample_size))}\")\n",
    "\n",
    "# Calculate power for the calculated sample size\n",
    "n = int(np.ceil(required_sample_size))  # use the calculated sample size\n",
    "calculated_power = power_analysis.solve_power(effect_size=effect_size, nobs=n, alpha=alpha)\n",
    "\n",
    "print(f\"Calculated power for sample size {n} when r >= {r1}: {calculated_power:.4f}\")\n"
   ]
  },
  {
   "cell_type": "code",
   "execution_count": null,
   "id": "02cb7014",
   "metadata": {},
   "outputs": [],
   "source": []
  }
 ],
 "metadata": {
  "kernelspec": {
   "display_name": "Python 3 (ipykernel)",
   "language": "python",
   "name": "python3"
  },
  "language_info": {
   "codemirror_mode": {
    "name": "ipython",
    "version": 3
   },
   "file_extension": ".py",
   "mimetype": "text/x-python",
   "name": "python",
   "nbconvert_exporter": "python",
   "pygments_lexer": "ipython3",
   "version": "3.11.5"
  }
 },
 "nbformat": 4,
 "nbformat_minor": 5
}
